{
 "cells": [
  {
   "cell_type": "code",
   "execution_count": null,
   "metadata": {},
   "outputs": [],
   "source": [
    "import pandas as pd\n",
    "import numpy as np\n",
    "from sklearn.linear_model import LogisticRegression\n",
    "from sklearn.model_selection import train_test_split\n",
    "import lightgbm as lgb\n",
    "%matplotlib inline\n",
    "import matplotlib.pyplot as plt\n",
    "import os\n",
    "from sklearn.preprocessing import LabelEncoder\n",
    "from scipy.sparse import csr_matrix, hstack\n",
    "from sklearn.linear_model import LogisticRegression\n",
    "from sklearn.model_selection import StratifiedKFold\n",
    "from sklearn.metrics import log_loss\n",
    "import warnings\n",
    "from collections import Counter\n",
    "from sklearn.metrics import accuracy_score\n",
    "warnings.filterwarnings(\"ignore\")"
   ]
  },
  {
   "cell_type": "code",
   "execution_count": null,
   "metadata": {},
   "outputs": [],
   "source": [
    "age_train = pd.read_csv('../input/age_train.csv', header=None)\n",
    "age_test = pd.read_csv('../input/age_test.csv', header=None)\n",
    "userInfo = pd.read_csv('../input/user_basic_info.csv', header=None)\n",
    "userBehavior = pd.read_csv('../input/user_behavior_info.csv', header=None)\n",
    "userAppActived = pd.read_csv('../input/user_app_actived.csv', header=None)\n",
    "appInfo = pd.read_csv('../input/app_info.csv', header=None)"
   ]
  },
  {
   "cell_type": "code",
   "execution_count": null,
   "metadata": {},
   "outputs": [],
   "source": [
    "userInfo.columns=['uId', 'gender', 'city', 'prodName', 'ramCapacity', 'ramLeftRation', 'romCapacity', 'romLeftRation', 'color', 'fontSize', 'ct', 'carrier', 'os']\n",
    "age_train.columns=['uId', 'age_group']\n",
    "age_test.columns=['uId']\n",
    "userBehavior.columns=['uId', 'bootTimes', 'AFuncTimes', 'BFuncTimes', 'CFuncTimes', 'DFuncTimes', 'EFuncTimes', 'FFuncTimes', 'FFuncSum']\n",
    "userAppActived.columns=['uId', 'appId']\n",
    "appInfo.columns=['appId', 'category']"
   ]
  },
  {
   "cell_type": "code",
   "execution_count": null,
   "metadata": {},
   "outputs": [],
   "source": [
    "userAppActived = pd.read_csv('input/user_app_actived.csv',  header=None)\n",
    "userAppActived.columns = ['uId', 'appId']\n",
    "idArr = []\n",
    "appArr = []\n",
    "l = len(userAppActived.index)\n",
    "for x in range(l):\n",
    "    print(x, '/', l)\n",
    "    tmp = userAppActived['appId'].iloc[x]\n",
    "    if tmp[0] != 'a':\n",
    "        continue\n",
    "    tmp = tmp.split('#')\n",
    "    for j in range(len(tmp)):\n",
    "        idArr.append(userAppActived['uId'].iloc[x])\n",
    "        appArr.append(tmp[j])\n",
    "\n",
    "result = pd.DataFrame({'uId': idArr, 'appId': appArr})\n",
    "result.merge(appInfo, on='appId', how='left')\n",
    "userAppUsed = result.groupby('uId').category.value_counts().unstack().reset_index().fillna(0)"
   ]
  },
  {
   "cell_type": "code",
   "execution_count": null,
   "metadata": {},
   "outputs": [],
   "source": [
    "trainData = age_train.merge(userAppUsed, on='uId', how='left')\n",
    "print(trainData.isnull().sum())\n",
    "trainLabel = age_train.age_group\n",
    "testData = age_test.merge(userAppUsed, on='uId', how='left')\n",
    "print(testData.isnull().sum())\n",
    "for column in list(trainData.columns[trainData.isnull().sum() > 0]):\n",
    "    trainData[column].fillna(0, inplace=True)\n",
    "for column in list(testData.columns[testData.isnull().sum() > 0]):\n",
    "    testData[column].fillna(0, inplace=True)"
   ]
  },
  {
   "cell_type": "code",
   "execution_count": null,
   "metadata": {},
   "outputs": [],
   "source": [
    "newData = userInfo[['uId', 'gender','ramCapacity', 'ramLeftRation', 'romCapacity', 'romLeftRation', 'fontSize', 'carrier', 'os']]\n",
    "print(newData.isnull().sum())\n",
    "carrierEncoder = LabelEncoder().fit(newData.carrier)\n",
    "newData['carrier'] = carrierEncoder.transform(newData['carrier'])"
   ]
  },
  {
   "cell_type": "code",
   "execution_count": null,
   "metadata": {},
   "outputs": [],
   "source": [
    "for column in list(newData.columns[newData.isnull().sum() > 0]):\n",
    "    mean_val = newData[column].mean()\n",
    "    newData[column].fillna(mean_val, inplace=True)"
   ]
  },
  {
   "cell_type": "code",
   "execution_count": null,
   "metadata": {},
   "outputs": [],
   "source": [
    "trainData = trainData.merge(newData, on='uId', how='left')\n",
    "testData = testData.merge(newData, on='uId', how='left')"
   ]
  },
  {
   "cell_type": "code",
   "execution_count": null,
   "metadata": {},
   "outputs": [],
   "source": [
    "trainData.drop(['age_group'], axis=1, inplace=True)"
   ]
  },
  {
   "cell_type": "code",
   "execution_count": null,
   "metadata": {},
   "outputs": [],
   "source": [
    "trainData.to_csv('firstVersionTrainData.csv', index=False)\n",
    "testData.to_csv('firstVersionTestData.csv', inde=False)"
   ]
  },
  {
   "cell_type": "code",
   "execution_count": null,
   "metadata": {},
   "outputs": [],
   "source": []
  }
 ],
 "metadata": {
  "kernelspec": {
   "display_name": "Python 3",
   "language": "python",
   "name": "python3"
  },
  "language_info": {
   "codemirror_mode": {
    "name": "ipython",
    "version": 3
   },
   "file_extension": ".py",
   "mimetype": "text/x-python",
   "name": "python",
   "nbconvert_exporter": "python",
   "pygments_lexer": "ipython3",
   "version": "3.6.8"
  }
 },
 "nbformat": 4,
 "nbformat_minor": 2
}
