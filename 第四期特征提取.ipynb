{
 "cells": [
  {
   "cell_type": "code",
   "execution_count": null,
   "metadata": {},
   "outputs": [],
   "source": [
    "import pandas as pd\n",
    "import numpy as np"
   ]
  },
  {
   "cell_type": "code",
   "execution_count": null,
   "metadata": {},
   "outputs": [],
   "source": [
    "app_info = pd.read_csv('./input/app_info.csv',names=['appid','category'])\n",
    "user_basic_info = pd.read_csv('./input/user_basic_info.csv',names=['uid','gender','city','prodName','ramCapacity', 'ramLeftRation','romCapacity','romLeftRation','color', 'fontSize','ct','carrier','os'])\n",
    "user_basic_info.drop(columns=['city','prodName','color','ct','carrier'],inplace=True)\n",
    "user_app_actived = pd.read_csv('./input/user_app_actived.csv',names=['uid','appid'])"
   ]
  },
  {
   "cell_type": "code",
   "execution_count": null,
   "metadata": {},
   "outputs": [],
   "source": [
    "app_cate_dict = {}\n",
    "appid_list = list(app_info['appid'].values)\n",
    "category_list = list(app_info['category'].values)\n",
    "for i in range(len(appid_list)):\n",
    "    if appid_list[i] in  app_cate_dict:\n",
    "        app_cate_dict[appid_list[i]].append(category_list[i])\n",
    "    else:\n",
    "        app_cate_dict[appid_list[i]] = []\n",
    "        app_cate_dict[appid_list[i]].append(category_list[i])\n",
    "user_app_num = {}\n",
    "for i in user_app_actived['appid'].values:\n",
    "    idlist = i.split('#')\n",
    "    for j in idlist:\n",
    "        if j in user_app_num:\n",
    "            user_app_num[j] = user_app_num[j]+1\n",
    "        else:\n",
    "            user_app_num[j] = 1"
   ]
  },
  {
   "cell_type": "code",
   "execution_count": null,
   "metadata": {},
   "outputs": [],
   "source": [
    "user_app_num2 = sorted(user_app_num.items(),key=lambda d:d[1],reverse=True)"
   ]
  },
  {
   "cell_type": "code",
   "execution_count": null,
   "metadata": {},
   "outputs": [],
   "source": [
    "user_app_num_sort = {}\n",
    "for i,j in enumerate(user_app_num2):\n",
    "    user_app_num_sort[j[0]] = i+1"
   ]
  },
  {
   "cell_type": "code",
   "execution_count": null,
   "metadata": {},
   "outputs": [],
   "source": [
    "reader = pd.read_csv('./input/user_app_usage.csv', iterator=True, names=['uid','appid','duration','times','use_date'])\n",
    "chunkSize = 10000000\n",
    "loop = True\n",
    "res_df = pd.DataFrame()"
   ]
  },
  {
   "cell_type": "code",
   "execution_count": null,
   "metadata": {},
   "outputs": [],
   "source": [
    "i = 0\n",
    "while loop:\n",
    "    try:\n",
    "        print(i)\n",
    "        df = reader.get_chunk(chunkSize)\n",
    "        df = optimize_memory(df)\n",
    "        df['duration_average'] = df['duration'] / df['times'] # 算出一次使用的平均时间\n",
    "        df = df.merge(user_basic_info,on=['uid'],how='left')\n",
    "        df.drop(columns=['uid'],axis=1,inplace=True)\n",
    "        for col in ['duration','duration_average','times','gender','ramCapacity',\n",
    "                    'ramLeftRation','romCapacity','romLeftRation', 'fontSize','os']:\n",
    "            tmp = df.groupby(['appid'],as_index=False)[col].agg({col+'_max':'max',col+'_min':'min',col+'_mean':'mean'})\n",
    "            df = df.merge(tmp, on=['appid'],how='left')\n",
    "            df.drop(columns=[col],axis=1,inplace=True)\n",
    "        df = df.drop_duplicates(['appid'])\n",
    "        res_df = pd.concat([res_df,df],ignore_index=True)\n",
    "        i+=1\n",
    "    except StopIteration:\n",
    "        print(\"Iteration is stopped\")  \n",
    "        break"
   ]
  },
  {
   "cell_type": "code",
   "execution_count": null,
   "metadata": {},
   "outputs": [],
   "source": [
    "res_df.drop(columns=['use_date'],axis=1,inplace=True)\n",
    "for col in allchunk.columns:\n",
    "    if col=='appid':\n",
    "        continue\n",
    "    tmp = res_df.groupby(['appid'],as_index=False)[col].agg({col+'_'+col.split('_')[-1]:col.split('_')[-1]})\n",
    "    res_df = res_df.merge(tmp, on=['appid'], how='left')\n",
    "    res_df.drop(columns=[col],inplace=True)\n",
    "    \n",
    "res_df = res_df.drop_duplicates(['appid'])\n",
    "res_df['number_sort'] = res_df['appid'].apply(lambda x:user_app_num_sort[x] if x in user_app_num_sort else np.nan)\n",
    "res_df.to_csv('./app_feature.csv',index=False)"
   ]
  },
  {
   "cell_type": "code",
   "execution_count": null,
   "metadata": {},
   "outputs": [],
   "source": [
    "idArr = []\n",
    "appArr = []\n",
    "l = len(user_app_actived.index)\n",
    "for x in range(l):\n",
    "    print(x, '/', l)\n",
    "    tmp = userAppActived['appId'].iloc[x]\n",
    "    if tmp[0] != 'a':\n",
    "        continue\n",
    "        tmp = tmp.split('#')\n",
    "        for j in range(len(tmp))\n",
    "            idArr.append(user_app_actived['uid'].iloc[x])\n",
    "            appArr.append(tmp[j])"
   ]
  },
  {
   "cell_type": "code",
   "execution_count": null,
   "metadata": {},
   "outputs": [],
   "source": [
    "result = pd.DataFrame({'uid': idArr, 'appId': appArr})\n",
    "usage = result.merge(app_feature, on='appId', how='left')\n",
    "usage = usage.drop('appId', axis=1)"
   ]
  },
  {
   "cell_type": "code",
   "execution_count": null,
   "metadata": {},
   "outputs": [],
   "source": [
    "usage = usage.groupby('uId').agg(['min', 'max', 'mean', 'std']).reset_index()"
   ]
  },
  {
   "cell_type": "code",
   "execution_count": null,
   "metadata": {},
   "outputs": [],
   "source": [
    "tmplist = []\n",
    "tmplist.append('uId')\n",
    "for i in range(124):\n",
    "    tmplist.append('wordfeature' + str(i))"
   ]
  },
  {
   "cell_type": "code",
   "execution_count": null,
   "metadata": {},
   "outputs": [],
   "source": [
    "usage.columns = tmplist"
   ]
  },
  {
   "cell_type": "code",
   "execution_count": null,
   "metadata": {},
   "outputs": [],
   "source": [
    "usage.head()"
   ]
  },
  {
   "cell_type": "code",
   "execution_count": null,
   "metadata": {},
   "outputs": [],
   "source": [
    "usage.to_csv('appvector.csv', index=False)"
   ]
  }
 ],
 "metadata": {
  "kernelspec": {
   "display_name": "Python 3",
   "language": "python",
   "name": "python3"
  },
  "language_info": {
   "codemirror_mode": {
    "name": "ipython",
    "version": 3
   },
   "file_extension": ".py",
   "mimetype": "text/x-python",
   "name": "python",
   "nbconvert_exporter": "python",
   "pygments_lexer": "ipython3",
   "version": "3.6.8"
  }
 },
 "nbformat": 4,
 "nbformat_minor": 2
}
