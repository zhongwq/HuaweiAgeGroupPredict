{
 "cells": [
  {
   "cell_type": "code",
   "execution_count": 1,
   "metadata": {},
   "outputs": [],
   "source": [
    "import pandas as pd\n",
    "import numpy as np\n",
    "from tqdm import tqdm\n",
    "from tqdm._tqdm import trange"
   ]
  },
  {
   "cell_type": "code",
   "execution_count": null,
   "metadata": {},
   "outputs": [],
   "source": [
    "age_train = pd.read_csv(\"./input/age_train.csv\", names=['uid','age_group'])\n",
    "age_test = pd.read_csv(\"./input/age_test.csv\", names=['uid'])\n",
    "app_info = pd.read_csv(\"./input/app_info.csv\", names=['appId', 'category'])"
   ]
  },
  {
   "cell_type": "code",
   "execution_count": null,
   "metadata": {},
   "outputs": [],
   "source": [
    "#处理数据量较大的user_app_usage.csv，结合app_info.csv简单统计得到appuseProcessed.csv作为特征\n",
    "def f(x):\n",
    "    s = x.value_counts()\n",
    "    return np.nan if len(s) == 0 else s.index[0]\n",
    "def processUserAppUsage():\n",
    "    resTable = pd.DataFrame()\n",
    "    date_use = pd.DataFrame()\n",
    "    reader = pd.read_csv(\"./input/user_app_usage.csv\", names=['uid','appId','duration','times','use_date'], iterator=True)\n",
    "    last_df = pd.DataFrame()\n",
    "    \n",
    "    i = 1\n",
    "    \n",
    "    while True:\n",
    "        try:\n",
    "            print(\"index: {}\".format(i))\n",
    "            i+=1\n",
    "            df = reader.get_chunk(50000000)\n",
    "            df = pd.concat([last_df, df])\n",
    "            idx = df.shape[0]-1\n",
    "            last_user = df.iat[idx,0]\n",
    "            while(df.iat[idx,0]==last_user):\n",
    "                idx-=1\n",
    "            last_df = df[idx+1:]\n",
    "            df = df[:idx+1]\n",
    "            \n",
    "            \n",
    "            now_df = pd.DataFrame()\n",
    "            now_df['uid'] = df['uid'].unique()\n",
    "            now_df = now_df.merge(df.groupby('uid')['appId'].count().to_frame(), how='left', on='uid')\n",
    "            now_df = now_df.merge(df.groupby('uid')['appId','use_date'].agg(['nunique']), how='left', on='uid')\n",
    "            now_df = now_df.merge(df.groupby('uid')['duration','times'].agg(['mean','max','std']), how='left', on='uid')\n",
    "            now_df.columns = ['uid','usage_cnt','usage_appid_cnt','usage_date_cnt','duration_mean','duration_max','duration_std','times_mean','times_max','times_std']\n",
    "\n",
    "            df.drop(['appId'], axis=1, inplace=True)\n",
    "            allsum = df.groupby(['uid', 'use_date'])['duration','times'].sum().reset_index()\n",
    "            allsum.drop('use_date', axis=1), inplace=True\n",
    "            tmp = allsum.groupby('uid').agg(['min', 'max', 'mean', 'std'])\n",
    "            tmp.columns = ['uid', 'duration_min', 'duration_max', 'duration_mean', 'duration_std', 'times_min', 'times_max', 'times_mean', 'times_std']\n",
    "            \n",
    "            now_df = now_df.merge(tmp, how='left', on='uid')\n",
    "            \n",
    "            resTable = pd.concat([resTable, now_df])\n",
    "            \n",
    "        except StopIteration:\n",
    "            break\n",
    "    \n",
    "    resTable.to_csv(\"secondVersion.csv\",index=0)\n",
    "    \n",
    "    print(\"Iterator is stopped\")"
   ]
  },
  {
   "cell_type": "code",
   "execution_count": null,
   "metadata": {},
   "outputs": [],
   "source": [
    "processUserAppUsage()"
   ]
  }
 ],
 "metadata": {
  "kernelspec": {
   "display_name": "Python 3",
   "language": "python",
   "name": "python3"
  },
  "language_info": {
   "codemirror_mode": {
    "name": "ipython",
    "version": 3
   },
   "file_extension": ".py",
   "mimetype": "text/x-python",
   "name": "python",
   "nbconvert_exporter": "python",
   "pygments_lexer": "ipython3",
   "version": "3.6.8"
  }
 },
 "nbformat": 4,
 "nbformat_minor": 2
}
