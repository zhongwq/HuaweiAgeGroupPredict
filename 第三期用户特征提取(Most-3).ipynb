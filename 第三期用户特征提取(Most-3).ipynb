{
 "cells": [
  {
   "cell_type": "code",
   "execution_count": null,
   "metadata": {},
   "outputs": [],
   "source": [
    "import pandas as pd\n",
    "from sklearn.preprocessing import LabelEncoder"
   ]
  },
  {
   "cell_type": "code",
   "execution_count": null,
   "metadata": {},
   "outputs": [],
   "source": [
    "# 使用第一期的基本的各类的使用数据\n",
    "userAppRecord = pd.read_csv('user_app_record.csv')"
   ]
  },
  {
   "cell_type": "code",
   "execution_count": null,
   "metadata": {},
   "outputs": [],
   "source": [
    "countTmp = userAppRecord.groupby('uId').category.value_counts().rename('count').reset_index()\n",
    "countTmp = countTmp.groupby('uId').head(3)\n",
    "countTmp = countTmp.reset_index()\n",
    "countTmp.head()"
   ]
  },
  {
   "cell_type": "code",
   "execution_count": null,
   "metadata": {},
   "outputs": [],
   "source": [
    "countTmp = countTmp.drop(['index','count'], axis=1)\n",
    "countTmp.head()"
   ]
  },
  {
   "cell_type": "code",
   "execution_count": null,
   "metadata": {},
   "outputs": [],
   "source": [
    "userActivedAppData.fillna('无', inplace=True)\n",
    "userActivedAppData = countTmp.set_index(['uId',countTmp.groupby(['uId']).cumcount()+1]).unstack().sort_index(level=1, axis=1).reset_index()\n",
    "userActivedAppData.columns = ['uId', 'useMost-1', 'useMost-2', 'useMost-3']\n",
    "userActivedAppData.head()"
   ]
  },
  {
   "cell_type": "code",
   "execution_count": null,
   "metadata": {},
   "outputs": [],
   "source": [
    "appInfo = pd.read_csv('../input/app_info.csv', header=None)\n",
    "appInfo.columns=['appId', 'category']"
   ]
  },
  {
   "cell_type": "code",
   "execution_count": null,
   "metadata": {},
   "outputs": [],
   "source": [
    "appInfo = appInfo.append([{'appId':'NoApp', 'category': '无'}], ignore_index=True)"
   ]
  },
  {
   "cell_type": "code",
   "execution_count": null,
   "metadata": {},
   "outputs": [],
   "source": [
    "classEncoder = LabelEncoder().fit(appInfo.category)"
   ]
  },
  {
   "cell_type": "code",
   "execution_count": null,
   "metadata": {},
   "outputs": [],
   "source": [
    "userActivedAppData['useMost-1'] = classEncoder.transform(userActivedAppData['useMost-1'])\n",
    "userActivedAppData['useMost-2'] = classEncoder.transform(userActivedAppData['useMost-2'])\n",
    "userActivedAppData['useMost-3'] = classEncoder.transform(userActivedAppData['useMost-3'])"
   ]
  },
  {
   "cell_type": "code",
   "execution_count": null,
   "metadata": {},
   "outputs": [],
   "source": [
    "userActivedAppData.to_csv(\"user_app_use_most_three_labelize.csv\", index=False)"
   ]
  }
 ],
 "metadata": {
  "kernelspec": {
   "display_name": "Python 3",
   "language": "python",
   "name": "python3"
  },
  "language_info": {
   "codemirror_mode": {
    "name": "ipython",
    "version": 3
   },
   "file_extension": ".py",
   "mimetype": "text/x-python",
   "name": "python",
   "nbconvert_exporter": "python",
   "pygments_lexer": "ipython3",
   "version": "3.6.8"
  }
 },
 "nbformat": 4,
 "nbformat_minor": 2
}
